{
 "cells": [
  {
   "attachments": {},
   "cell_type": "markdown",
   "metadata": {},
   "source": [
    "## Stack Data Structure\n",
    "\n",
    "Linear, Last In First Out (LIFO)\n",
    "\n",
    "- Push: Add an element to the top of a stack\n",
    "- Pop: Remove an element from the top of a stack\n",
    "- IsEmpty: Check if the stack is empty\n",
    "- IsFull: Check if the stack is full\n",
    "- Peek: Get the value of the top element without removing it"
   ]
  },
  {
   "cell_type": "code",
   "execution_count": 6,
   "metadata": {},
   "outputs": [
    {
     "ename": "SyntaxError",
     "evalue": "invalid syntax (3908126618.py, line 3)",
     "output_type": "error",
     "traceback": [
      "\u001b[0;36m  Cell \u001b[0;32mIn[6], line 3\u001b[0;36m\u001b[0m\n\u001b[0;31m    def __init\u001b[0m\n\u001b[0m              ^\u001b[0m\n\u001b[0;31mSyntaxError\u001b[0m\u001b[0;31m:\u001b[0m invalid syntax\n"
     ]
    }
   ],
   "source": [
    "class Stack:\n",
    "    \n",
    "    def __init__(self, size=-1):\n",
    "        self.size = size\n",
    "        \n",
    "\n",
    "    def create_stack():\n",
    "        stack = list()\n",
    "        return stack\n",
    "\n",
    "\n",
    "    def is_empty(stack):\n",
    "        return len(stack) == 0\n",
    "\n",
    "\n",
    "    def is_full(stack):\n",
    "        pass\n",
    "\n",
    "\n",
    "    def push(stack, item):\n",
    "        stack.append(item)\n",
    "        print(f'push: {item}')\n",
    "        \n",
    "        \n",
    "    def pop(stack):\n",
    "        if (is_empty(stack)):\n",
    "            print('stack is empty')\n",
    "            \n",
    "        return stack.pop()\n",
    "\n",
    "\n",
    "stack = create_stack()\n",
    "push(stack, 1)\n",
    "push(stack, 2)\n",
    "push(stack, 3)\n",
    "last_item = pop(stack)\n",
    "print(last_item)"
   ]
  },
  {
   "cell_type": "code",
   "execution_count": 8,
   "metadata": {},
   "outputs": [
    {
     "data": {
      "text/plain": [
       "'0x1045829b0'"
      ]
     },
     "execution_count": 8,
     "metadata": {},
     "output_type": "execute_result"
    }
   ],
   "source": [
    "x = 5\n",
    "hex(id(x))"
   ]
  },
  {
   "cell_type": "code",
   "execution_count": null,
   "metadata": {},
   "outputs": [],
   "source": []
  }
 ],
 "metadata": {
  "kernelspec": {
   "display_name": "dataeng",
   "language": "python",
   "name": "python3"
  },
  "language_info": {
   "codemirror_mode": {
    "name": "ipython",
    "version": 3
   },
   "file_extension": ".py",
   "mimetype": "text/x-python",
   "name": "python",
   "nbconvert_exporter": "python",
   "pygments_lexer": "ipython3",
   "version": "3.9.16"
  },
  "orig_nbformat": 4
 },
 "nbformat": 4,
 "nbformat_minor": 2
}
