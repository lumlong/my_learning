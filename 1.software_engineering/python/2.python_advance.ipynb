{
 "cells": [
  {
   "attachments": {},
   "cell_type": "markdown",
   "metadata": {},
   "source": [
    "## Modules and Packages"
   ]
  },
  {
   "cell_type": "code",
   "execution_count": null,
   "metadata": {},
   "outputs": [],
   "source": [
    "# this is comment, this text will ignore by prothe gram.\n",
    "'''this is multiple line comment'''\n",
    "\n",
    "# import \"datetime\" submodule from \"date\" modul, reppresent as \"d\"\n",
    "from datetime import date as d\n",
    "\n",
    "# create variables, variables: x are containers for storing data values: 9.\n",
    "x = 9\n",
    "\n",
    "# this conditional block\n",
    "# is allows you to execute code ehen the file runs as a script, but not when it’s imported as a module\n",
    "if __name__ == '__main__':\n",
    "    pass"
   ]
  },
  {
   "cell_type": "code",
   "execution_count": null,
   "metadata": {},
   "outputs": [],
   "source": []
  }
 ],
 "metadata": {
  "kernelspec": {
   "display_name": "Python 3",
   "language": "python",
   "name": "python3"
  },
  "language_info": {
   "name": "python",
   "version": "3.-1.-1"
  },
  "orig_nbformat": 4,
  "vscode": {
   "interpreter": {
    "hash": "31f2aee4e71d21fbe5cf8b01ff0e069b9275f58929596ceb00d14d90e3e16cd6"
   }
  }
 },
 "nbformat": 4,
 "nbformat_minor": 2
}
