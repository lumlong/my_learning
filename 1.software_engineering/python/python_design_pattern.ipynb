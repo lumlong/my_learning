{
 "cells": [
  {
   "cell_type": "markdown",
   "metadata": {},
   "source": [
    "# OOP\n",
    "\n",
    "## **What is the structure of object-oriented programming?**\n",
    "The structure, or building blocks, of object-oriented programming include the following:\n",
    "\n",
    "* **Classes** are user-defined data types that act as the blueprint for individual objects, attributes and methods.\n",
    "\n",
    "* **Objects** are instances of a class created with specifically defined data. Objects can correspond to real-world objects or an abstract entity. When class is defined initially, the description is the only object that is defined.\n",
    "\n",
    "* **Methods** are functions that are defined inside a class that describe the behaviors of an object. Each method contained in class definitions starts with a reference to an instance object. Additionally, the subroutines contained in an object are called instance methods. Programmers use methods for reusability or keeping functionality encapsulated inside one object at a time.\n",
    "\n",
    "* **Attributes** are defined in the class template and represent the state of an object. Objects will have data stored in the attributes field. Class attributes belong to the class itself.\n",
    "\n",
    "## **What are the main principles of OOP?**\n",
    "\n",
    "Object-oriented programming is based on the following principles:\n",
    "\n",
    "* **Encapsulation.** This principle states that all important information is contained inside an object and only select information is exposed. The implementation and state of each object are privately held inside a defined class. Other objects do not have access to this class or the authority to make changes. They are only able to call a list of public functions or methods. This characteristic of data hiding provides greater program security and avoids unintended data corruption.\n",
    "\n",
    "* **Abstraction.** Objects only reveal internal mechanisms that are relevant for the use of other objects, hiding any unnecessary implementation code. The derived class can have its functionality extended. This concept can help developers more easily make additional changes or additions over time.\n",
    "\n",
    "* **Inheritance.** Classes can reuse code from other classes. Relationships and subclasses between objects can be assigned, enabling developers to reuse common logic while still maintaining a unique hierarchy. This property of OOP forces a more thorough data analysis, reduces development time and ensures a higher level of accuracy.\n",
    "\n",
    "* **Polymorphism.** Objects are designed to share behaviors and they can take on more than one form. The program will determine which meaning or usage is necessary for each execution of that object from a parent class, reducing the need to duplicate code. A child class is then created, which extends the functionality of the parent class. Polymorphism allows different types of objects to pass through the same interface."
   ]
  },
  {
   "cell_type": "code",
   "execution_count": 1,
   "metadata": {},
   "outputs": [],
   "source": [
    "# OOP\n",
    "\n",
    "class Classname: \n",
    "    # Encapsulation: Access modifier\n",
    "    # class attibute\n",
    "    public = \"public\"\n",
    "    _protect = \"protected\"  # protected class atribute\n",
    "    __private = \"private\"   # private class attribute\n",
    "    \n",
    "    # Initiation\n",
    "    def __init__(self):\n",
    "        pass"
   ]
  },
  {
   "cell_type": "code",
   "execution_count": 2,
   "metadata": {},
   "outputs": [],
   "source": [
    "# OOP\n",
    "from abc import ABCMeta, abstractmethod\n",
    "from datetime import datetime\n",
    "from itertools import count\n",
    "\n",
    "\n",
    "class Person(metaclass=ABCMeta):\n",
    "    \n",
    "    # Class attribute always with Class not Current Obj\n",
    "    # Employee counter\n",
    "    total_person = 0\n",
    "    _id = 0\n",
    "    \n",
    "    def __init__(self, name, birth_date):\n",
    "        # Instant attribute always with Object\n",
    "        self.name = name\n",
    "        self.__birth_date = birth_date\n",
    "        \n",
    "        Person.total_person += 1\n",
    "        Person._id += 1\n",
    "        print(\"Person created.\")\n",
    "        \n",
    "    def __del__(self):\n",
    "        Person.total_person -= 1\n",
    "        print(\"Destructor called, Person deleted.\")\n",
    "        \n",
    "    @classmethod\n",
    "    def get_total_person(self):\n",
    "        return self.total_person"
   ]
  },
  {
   "cell_type": "code",
   "execution_count": 3,
   "metadata": {},
   "outputs": [],
   "source": [
    "class Employee(Person, metaclass=ABCMeta):\n",
    "    \n",
    "    # Class attribute always with Class not Current Obj\n",
    "    # Employee counter\n",
    "    total_employee = 0\n",
    "    _id = 0\n",
    "    \n",
    "    def __init__(self, name, birth_date, job_title, start_date, value=0):\n",
    "        # Instant attribute always with Object\n",
    "        super().__init__(name=name, birth_date=birth_date)\n",
    "        self.job_title = job_title\n",
    "        self.start_date = start_date\n",
    "        self.__salary = value\n",
    "        \n",
    "        Employee.total_employee += 1\n",
    "        Employee._id += 1\n",
    "        print(\"Employee created.\")\n",
    "        \n",
    "    def __del__(self):\n",
    "        Employee.total_employee -= 1\n",
    "        Person.total_person -= 1\n",
    "        print(\"Destructor called, Employee deleted.\") \n",
    "    \n",
    "    @property\n",
    "    def salary(self):\n",
    "        print(\"Getting value...\")\n",
    "        return self.__salary\n",
    "    \n",
    "    @salary.setter\n",
    "    def salary(self, value):\n",
    "        print(\"Setting value...\")\n",
    "        if value < 0:\n",
    "            raise ValueError(\"Value < 0 not possible\")\n",
    "        self.__salary = value\n",
    "        \n",
    "    @classmethod\n",
    "    def get_total_employee(self):\n",
    "        return self.total_employee"
   ]
  },
  {
   "cell_type": "code",
   "execution_count": 4,
   "metadata": {},
   "outputs": [
    {
     "name": "stdout",
     "output_type": "stream",
     "text": [
      "Person created.\n",
      "Employee created.\n",
      "Person created.\n",
      "Employee created.\n"
     ]
    }
   ],
   "source": [
    "em1 = Employee(name=\"John\", birth_date=datetime(1992,11,5), job_title=\"Architect\", start_date=datetime(2022,10,1))\n",
    "em2 = Employee(name=\"Jane\", birth_date=datetime(1990,1,1), job_title=\"Designer\", start_date=datetime(2022,10,1))"
   ]
  },
  {
   "cell_type": "code",
   "execution_count": 5,
   "metadata": {},
   "outputs": [
    {
     "data": {
      "text/plain": [
       "2"
      ]
     },
     "execution_count": 5,
     "metadata": {},
     "output_type": "execute_result"
    }
   ],
   "source": [
    "Employee.get_total_employee()"
   ]
  },
  {
   "cell_type": "code",
   "execution_count": 6,
   "metadata": {},
   "outputs": [
    {
     "name": "stdout",
     "output_type": "stream",
     "text": [
      "Setting value...\n"
     ]
    }
   ],
   "source": [
    "em1.salary = 20000"
   ]
  },
  {
   "cell_type": "code",
   "execution_count": 9,
   "metadata": {},
   "outputs": [
    {
     "ename": "AttributeError",
     "evalue": "'Employee' object has no attribute '__salary'",
     "output_type": "error",
     "traceback": [
      "\u001b[0;31m---------------------------------------------------------------------------\u001b[0m",
      "\u001b[0;31mAttributeError\u001b[0m                            Traceback (most recent call last)",
      "\u001b[1;32m/Users/krit/Documents/MOOCs/Udemy - Machine Learning A-Z/Machine Learning A-Z (Codes and Datasets)/python_design_pattern.ipynb Cell 8\u001b[0m in \u001b[0;36m<cell line: 1>\u001b[0;34m()\u001b[0m\n\u001b[0;32m----> <a href='vscode-notebook-cell:/Users/krit/Documents/MOOCs/Udemy%20-%20Machine%20Learning%20A-Z/Machine%20Learning%20A-Z%20%28Codes%20and%20Datasets%29/python_design_pattern.ipynb#X22sZmlsZQ%3D%3D?line=0'>1</a>\u001b[0m em1\u001b[39m.\u001b[39;49m__salary()\n",
      "\u001b[0;31mAttributeError\u001b[0m: 'Employee' object has no attribute '__salary'"
     ]
    }
   ],
   "source": [
    "# Can't access Instant attribute directly\n",
    "em1.__salary"
   ]
  }
 ],
 "metadata": {
  "kernelspec": {
   "display_name": "Python 3.10.6 ('mlp-env')",
   "language": "python",
   "name": "python3"
  },
  "language_info": {
   "codemirror_mode": {
    "name": "ipython",
    "version": 3
   },
   "file_extension": ".py",
   "mimetype": "text/x-python",
   "name": "python",
   "nbconvert_exporter": "python",
   "pygments_lexer": "ipython3",
   "version": "3.10.6"
  },
  "orig_nbformat": 4,
  "vscode": {
   "interpreter": {
    "hash": "a0745cecd6693224acfd65ed4dace2baa9598cb458ac011834dc915248e3aadb"
   }
  }
 },
 "nbformat": 4,
 "nbformat_minor": 2
}
