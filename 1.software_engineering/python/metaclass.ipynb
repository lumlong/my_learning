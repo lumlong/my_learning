{
 "cells": [
  {
   "cell_type": "markdown",
   "metadata": {},
   "source": [
    "## What metaclasses are – quick recap\n",
    "from https://breadcrumbscollector.tech/when-to-use-metaclasses-in-python-5-interesting-use-cases/\n",
    "\n",
    "They are classes for classes (hence “meta” in their name).\n",
    "\n",
    "Simply saying – while classes are blueprints for objects, metaclasses are blueprints for classes. Class acts as a blueprint when we create an instance of it whereas metaclass acts as a blueprint only when a class is defined."
   ]
  },
  {
   "cell_type": "markdown",
   "metadata": {},
   "source": [
    "In python everything is an object. class is also object\n",
    "\n",
    "class is a blueprint of object, and metaclass is a blueprint of class"
   ]
  },
  {
   "cell_type": "markdown",
   "metadata": {},
   "source": [
    "<img>https://files.realpython.com/media/class-chain.5cb031a299fe.png</img>"
   ]
  },
  {
   "cell_type": "code",
   "execution_count": 25,
   "metadata": {},
   "outputs": [
    {
     "name": "stdout",
     "output_type": "stream",
     "text": [
      "<__main__.Test object at 0x108f2f100>\n",
      "<class '__main__.Test'>\n",
      "<class 'type'>\n",
      "<class 'type'>\n"
     ]
    }
   ],
   "source": [
    "class Test:\n",
    "    def set_attr(self, attr):\n",
    "        self.attr = attr\n",
    "    def get_attr(self):\n",
    "        return self.attr\n",
    "    pass\n",
    "\n",
    "t = Test()\n",
    "\n",
    "print(t)            # object\n",
    "print(type(t))      # class\n",
    "print(type(Test))   # type\n",
    "print(type(type))   # type"
   ]
  },
  {
   "cell_type": "markdown",
   "metadata": {},
   "source": [
    "In the above case:\n",
    "- t is an instance of class Test.\n",
    "- Test is an instance of the type metaclass.\n",
    "- type is also an instance of the type metaclass, so it is an instance of itself.\n",
    "\n",
    "If type return class.\n",
    "so you can create class by passing arg: type(name, bases, dict, **kwds) -> a new type"
   ]
  },
  {
   "cell_type": "code",
   "execution_count": null,
   "metadata": {},
   "outputs": [],
   "source": [
    "#type(t) return class, so you can create object from\n",
    "a = type(t)()       # equal to a = Test()\n",
    "a.set_attr('a')\n",
    "print(a.get_attr())"
   ]
  },
  {
   "cell_type": "code",
   "execution_count": 26,
   "metadata": {},
   "outputs": [
    {
     "name": "stdout",
     "output_type": "stream",
     "text": [
      "<class '__main__.Test'>\n"
     ]
    }
   ],
   "source": [
    "# class is implement form type\n",
    "Test = type('Test', (), {})\n",
    "\n",
    "print(Test)         # class"
   ]
  },
  {
   "cell_type": "markdown",
   "metadata": {},
   "source": [
    "For metaclass it is inherite form type metaclass"
   ]
  },
  {
   "cell_type": "code",
   "execution_count": 45,
   "metadata": {},
   "outputs": [
    {
     "name": "stdout",
     "output_type": "stream",
     "text": [
      "cls: <class '__main__.MyMeta'>\n",
      "name: ClassFromMeta\n",
      "bases: ()\n",
      "attrs: {'__module__': '__main__', '__qualname__': 'ClassFromMeta'}\n"
     ]
    },
    {
     "data": {
      "text/plain": [
       "<__main__.ClassFromMeta at 0x1089248b0>"
      ]
     },
     "execution_count": 45,
     "metadata": {},
     "output_type": "execute_result"
    }
   ],
   "source": [
    "# inherit from type\n",
    "class MyMeta(type):\n",
    "    # __new__ is a classmethod, even without @classmethod decorator\n",
    "    def __new__(cls, name, bases, attrs):\n",
    "        # cls - MyMeta\n",
    "        # name - name of the class being defined (MyClass in this example)\n",
    "        # bases - base classes for constructed class, empty tuple in this case\n",
    "        # attrs - dict with methods and fields defined in class i.e. - {'x': 3}         \n",
    "        print('cls: ' + str(cls))\n",
    "        print('name: ' + str(name))\n",
    "        print('bases: ' + str(bases))\n",
    "        print('attrs: ' + str(attrs))\n",
    "        # super().__new__ just returns a new class\n",
    "        return super().__new__(cls, name, bases, attrs)\n",
    "    \n",
    "class ClassFromMeta(metaclass=MyMeta):\n",
    "    pass\n",
    "    \n",
    "ClassFromMeta()"
   ]
  },
  {
   "cell_type": "markdown",
   "metadata": {},
   "source": [
    "Metaclass use cases\n",
    "1. Avoiding decorators repetition or decorating all subclasses\n",
    "2. Validation of subclasses\n",
    "3. Registering subclasses – extendable strategy pattern"
   ]
  },
  {
   "cell_type": "markdown",
   "metadata": {},
   "source": [
    "### 1. Avoiding decorators repetition or decorating all subclasses"
   ]
  },
  {
   "cell_type": "code",
   "execution_count": 42,
   "metadata": {},
   "outputs": [
    {
     "name": "stdout",
     "output_type": "stream",
     "text": [
      "decorated\n",
      "decorated\n",
      "decorated\n",
      "<class '__main__.EventMeta'>\n"
     ]
    }
   ],
   "source": [
    "def decor(cls):\n",
    "    print('decorated')\n",
    "    return cls\n",
    "\n",
    "class EventMeta(type):\n",
    "    def __new__(cls, name, bases, namespace):\n",
    "        new_cls = super().__new__(cls, name, bases, namespace)\n",
    "        return decor(new_cls)\n",
    "\n",
    "\n",
    "class Event(metaclass=EventMeta):\n",
    "    pass\n",
    "\n",
    "\n",
    "class Event1(Event):\n",
    "    pass\n",
    "\n",
    "\n",
    "class Event2(Event):\n",
    "    pass\n",
    "\n",
    "\n",
    "# Every class inherite from Event is decorated by @decor and is EventMeta\n",
    "print(type(Event1))"
   ]
  },
  {
   "cell_type": "markdown",
   "metadata": {},
   "source": [
    "### 2. Validation of subclasses"
   ]
  },
  {
   "cell_type": "code",
   "execution_count": 50,
   "metadata": {},
   "outputs": [],
   "source": [
    "import abc\n",
    "\n",
    "class JsonExporterMeta(abc.ABCMeta):\n",
    "    _filenames = set()\n",
    "\n",
    "    def __new__(cls, name, bases, namespace):\n",
    "        # first execute abc logic\n",
    "        new_cls = super().__new__(cls, name, bases, namespace)\n",
    "\n",
    "        if not isinstance(namespace['_filename'], str):\n",
    "            raise TypeError(f'_filename attribute of {name} class has to be string!')\n",
    "\n",
    "        if not namespace['_filename'].endswith('.json'):\n",
    "            raise ValueError(f'_filename attribute of {name} class has to end with \".json\"!')\n",
    "\n",
    "        if namespace['_filename'] in cls._filenames:\n",
    "            raise ValueError(f'_filename attribute of {name} class is not unique!')\n",
    "\n",
    "        # ABCMeta register _filenames for check later, this applied to all inheritant class\n",
    "        cls._filenames.add(namespace['_filename'])\n",
    "        # If everything ok, return new_cls\n",
    "        return new_cls"
   ]
  },
  {
   "cell_type": "code",
   "execution_count": 65,
   "metadata": {},
   "outputs": [
    {
     "data": {
      "text/plain": [
       "True"
      ]
     },
     "execution_count": 65,
     "metadata": {},
     "output_type": "execute_result"
    }
   ],
   "source": [
    "from typing import Dict\n",
    "import inspect\n",
    "\n",
    "class StrategyMeta(abc.ABCMeta):\n",
    "    \"\"\"\n",
    "    We keep a mapping of externally used names to classes.\n",
    "    \"\"\"\n",
    "    registry: Dict[str, 'Strategy'] = {}\n",
    "\n",
    "    def __new__(cls, name, bases, namespace):\n",
    "        new_cls = super().__new__(cls, name, bases, namespace)\n",
    "\n",
    "        \"\"\"\n",
    "        We register each concrete class\n",
    "        \"\"\"\n",
    "        if not inspect.isabstract(new_cls):\n",
    "            cls.registry[new_cls.name] = new_cls\n",
    "\n",
    "        return new_cls \n",
    "\n",
    "\n",
    "class Strategy(metaclass=StrategyMeta):\n",
    "    @property\n",
    "    @abc.abstractmethod\n",
    "    def name(self):\n",
    "        pass\n",
    "\n",
    "    @abc.abstractmethod\n",
    "    def validate_credentials(self, login: str, password: str) -> bool:\n",
    "        pass\n",
    "\n",
    "    @classmethod\n",
    "    def for_name(cls, name: str) -> 'Strategy':\n",
    "        \"\"\"\n",
    "        We use registry to build a better class\n",
    "        \"\"\"\n",
    "        return StrategyMeta.registry[name]()\n",
    "    \n",
    "    \n",
    "class AlwaysOk(Strategy):\n",
    "    name = 'always_ok'\n",
    "\n",
    "    # This implement abstract method -> concrete method , then register to StrategyMeta.registry\n",
    "    def validate_credentials(self, login: str, password: str) -> bool:\n",
    "        return True\n",
    "    \n",
    "\n",
    "class AnotherOk(Strategy):\n",
    "    name = 'another_ok'\n",
    "\n",
    "    def validate_credentials(self, login: str, password: str) -> bool:\n",
    "        return True\n",
    "\n",
    "\n",
    "# example\n",
    "Strategy.for_name('always_ok').validate_credentials('john', 'x')\n",
    "Strategy.for_name('always_ok').validate_credentials('jane', 'y')"
   ]
  },
  {
   "cell_type": "code",
   "execution_count": 66,
   "metadata": {},
   "outputs": [
    {
     "data": {
      "text/plain": [
       "{'always_ok': __main__.AlwaysOk, 'another_ok': __main__.AnotherOk}"
      ]
     },
     "execution_count": 66,
     "metadata": {},
     "output_type": "execute_result"
    }
   ],
   "source": [
    "StrategyMeta.registry"
   ]
  }
 ],
 "metadata": {
  "kernelspec": {
   "display_name": "Python 3.10.6 ('mlp-env')",
   "language": "python",
   "name": "python3"
  },
  "language_info": {
   "codemirror_mode": {
    "name": "ipython",
    "version": 3
   },
   "file_extension": ".py",
   "mimetype": "text/x-python",
   "name": "python",
   "nbconvert_exporter": "python",
   "pygments_lexer": "ipython3",
   "version": "3.10.6"
  },
  "orig_nbformat": 4,
  "vscode": {
   "interpreter": {
    "hash": "a0745cecd6693224acfd65ed4dace2baa9598cb458ac011834dc915248e3aadb"
   }
  }
 },
 "nbformat": 4,
 "nbformat_minor": 2
}
