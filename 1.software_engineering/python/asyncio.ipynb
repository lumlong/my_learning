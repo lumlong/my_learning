{
 "cells": [
  {
   "cell_type": "code",
   "execution_count": 4,
   "metadata": {},
   "outputs": [],
   "source": [
    "import asyncio\n",
    "import time"
   ]
  },
  {
   "cell_type": "code",
   "execution_count": 14,
   "metadata": {},
   "outputs": [
    {
     "name": "stdout",
     "output_type": "stream",
     "text": [
      "executed in 3.02 seconds.\n"
     ]
    }
   ],
   "source": [
    "def async_func(sleep):\n",
    "    start = time.time()\n",
    "    time.sleep(sleep)\n",
    "    # print(f'func is finish: {time.time() - start}')\n",
    "\n",
    "\n",
    "s = time.perf_counter()\n",
    "async_func(1)\n",
    "async_func(1)\n",
    "async_func(1)\n",
    "elapsed = time.perf_counter() - s\n",
    "print(f\"executed in {elapsed:0.2f} seconds.\")"
   ]
  },
  {
   "cell_type": "code",
   "execution_count": 12,
   "metadata": {},
   "outputs": [
    {
     "name": "stdout",
     "output_type": "stream",
     "text": [
      "executed in 1.00 seconds.\n"
     ]
    }
   ],
   "source": [
    "async def async_func(sleep):\n",
    "    start = time.time()\n",
    "    await asyncio.sleep(sleep)\n",
    "    # print(f'func is finish: {time.time() - start}')\n",
    "\n",
    "\n",
    "async def main():\n",
    "    await asyncio.gather(async_func(1), async_func(1), async_func(1))\n",
    "\n",
    "s = time.perf_counter()\n",
    "# asyncio.run(main())\n",
    "await main()\n",
    "elapsed = time.perf_counter() - s\n",
    "print(f\"executed in {elapsed:0.2f} seconds.\")"
   ]
  }
 ],
 "metadata": {
  "kernelspec": {
   "display_name": "Python 3.10.6 ('mlp-env')",
   "language": "python",
   "name": "python3"
  },
  "language_info": {
   "codemirror_mode": {
    "name": "ipython",
    "version": 3
   },
   "file_extension": ".py",
   "mimetype": "text/x-python",
   "name": "python",
   "nbconvert_exporter": "python",
   "pygments_lexer": "ipython3",
   "version": "3.10.6"
  },
  "orig_nbformat": 4,
  "vscode": {
   "interpreter": {
    "hash": "a0745cecd6693224acfd65ed4dace2baa9598cb458ac011834dc915248e3aadb"
   }
  }
 },
 "nbformat": 4,
 "nbformat_minor": 2
}
