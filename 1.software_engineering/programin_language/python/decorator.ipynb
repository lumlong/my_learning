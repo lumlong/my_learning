{
 "cells": [
  {
   "cell_type": "markdown",
   "metadata": {},
   "source": [
    "# Decorator\n",
    "\n",
    "Decorators allow us to wrap another function in order to extend the behaviour of the wrapped function, without permanently modifying it."
   ]
  },
  {
   "cell_type": "code",
   "execution_count": 24,
   "metadata": {},
   "outputs": [],
   "source": [
    "def decor(func):\n",
    "    # wrapper of function\n",
    "    def inner():\n",
    "        print('before')\n",
    "        func()\n",
    "        print('after')\n",
    "    # return wrapper\n",
    "    return inner\n",
    "\n",
    "\n",
    "def my_func():\n",
    "    print(my_func.__name__ + ' is called')"
   ]
  },
  {
   "cell_type": "code",
   "execution_count": 26,
   "metadata": {},
   "outputs": [],
   "source": [
    "# input func as argument, return wrapeed function\n",
    "dec_func = decor(my_func)\n",
    "dec_func()"
   ]
  },
  {
   "cell_type": "code",
   "execution_count": 27,
   "metadata": {},
   "outputs": [],
   "source": [
    "# this is equal to decor(myfunc)\n",
    "@decor\n",
    "def my_func():\n",
    "    print(my_func.__name__ + ' is called')"
   ]
  },
  {
   "cell_type": "code",
   "execution_count": 28,
   "metadata": {},
   "outputs": [
    {
     "name": "stdout",
     "output_type": "stream",
     "text": [
      "before\n",
      "inner is called\n",
      "after\n"
     ]
    }
   ],
   "source": [
    "my_func()"
   ]
  },
  {
   "cell_type": "markdown",
   "metadata": {},
   "source": [
    "### Class decorator\n",
    "\n",
    "\\__call__ method called when instant called"
   ]
  },
  {
   "cell_type": "code",
   "execution_count": 57,
   "metadata": {},
   "outputs": [],
   "source": [
    "class Decor:\n",
    "    def __init__(self):\n",
    "        pass\n",
    "    \n",
    "    def setup(self, color):\n",
    "        self.color = color\n",
    "    # argument *args and **kwargs we used a __call__ function and passed both the argument in a given function\n",
    "    def __call__(self, *args, **kwds):\n",
    "        print('__call__ method is called')\n",
    "    \n",
    "    def check(self, func):\n",
    "        def inner():\n",
    "            print('This is: ' + self.color)\n",
    "            func()\n",
    "        return inner"
   ]
  },
  {
   "cell_type": "code",
   "execution_count": 58,
   "metadata": {},
   "outputs": [],
   "source": [
    "red_tag = Decor()\n",
    "red_tag.setup('red')\n",
    "blue_tag = Decor()\n",
    "blue_tag.setup('blue')\n",
    "\n",
    "@red_tag.check\n",
    "def my_rfunc():\n",
    "    print(my_func.__name__ + ' is called')\n",
    "    \n",
    "@blue_tag.check\n",
    "def my_bfunc():\n",
    "    print(my_func.__name__ + ' is called')"
   ]
  },
  {
   "cell_type": "code",
   "execution_count": 59,
   "metadata": {},
   "outputs": [
    {
     "name": "stdout",
     "output_type": "stream",
     "text": [
      "This is: red\n",
      "inner is called\n",
      "This is: blue\n",
      "inner is called\n"
     ]
    }
   ],
   "source": [
    "my_rfunc()\n",
    "my_bfunc()"
   ]
  }
 ],
 "metadata": {
  "kernelspec": {
   "display_name": "Python 3.10.6 ('mlp-env')",
   "language": "python",
   "name": "python3"
  },
  "language_info": {
   "codemirror_mode": {
    "name": "ipython",
    "version": 3
   },
   "file_extension": ".py",
   "mimetype": "text/x-python",
   "name": "python",
   "nbconvert_exporter": "python",
   "pygments_lexer": "ipython3",
   "version": "3.10.6"
  },
  "orig_nbformat": 4,
  "vscode": {
   "interpreter": {
    "hash": "a0745cecd6693224acfd65ed4dace2baa9598cb458ac011834dc915248e3aadb"
   }
  }
 },
 "nbformat": 4,
 "nbformat_minor": 2
}
