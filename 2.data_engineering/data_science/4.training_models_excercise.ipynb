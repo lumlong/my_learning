{
 "cells": [
  {
   "attachments": {},
   "cell_type": "markdown",
   "metadata": {},
   "source": [
    "# Exercises\n",
    "1. Which linear regression training algorithm can you use if you have a training set with millions of features?\n",
    "2. Suppose the features in your training set have very different scales. Which algo‐ rithms might suffer from this, and how? What can you do about it?\n",
    "3. Can gradient descent get stuck in a local minimum when training a logistic regression model?\n",
    "4. Do all gradient descent algorithms lead to the same model, provided you let them run long enough?\n",
    "5. Suppose you use batch gradient descent and you plot the validation error at every epoch. If you notice that the validation error consistently goes up, what is likely going on? How can you fix this?\n",
    "6. Is it a good idea to stop mini-batch gradient descent immediately when the validation error goes up?\n",
    "7. Which gradient descent algorithm (among those we discussed) will reach the vicinity of the optimal solution the fastest? Which will actually converge? How can you make the others converge as well?\n",
    "8. Suppose you are using polynomial regression. You plot the learning curves and you notice that there is a large gap between the training error and the validation error. What is happening? What are three ways to solve this?\n",
    "9. Suppose you are using ridge regression and you notice that the training error and the validation error are almost equal and fairly high. Would you say that the model suffers from high bias or high variance? Should you increase the regularization hyperparameter α or reduce it?\n",
    "10. Why would you want to use:\n",
    "a. Ridge regression instead of plain linear regression (i.e., without any regularization)?\n",
    "b. Lasso instead of ridge regression?\n",
    "c. Elastic net instead of lasso regression?\n",
    "11. Suppose you want to classify pictures as outdoor/indoor and daytime/nighttime. Should you implement two logistic regression classifiers or one softmax regres‐ sion classifier?\n",
    "12. Implement batch gradient descent with early stopping for softmax regression without using Scikit-Learn, only NumPy. Use it on a classification task such as the iris dataset.\n",
    "Solutions to these exercises are available at the end of this chapter’s notebook, at https://homl.info/colab3."
   ]
  },
  {
   "cell_type": "markdown",
   "metadata": {},
   "source": []
  }
 ],
 "metadata": {
  "language_info": {
   "name": "python"
  },
  "orig_nbformat": 4
 },
 "nbformat": 4,
 "nbformat_minor": 2
}
