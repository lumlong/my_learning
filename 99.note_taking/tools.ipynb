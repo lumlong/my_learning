{
 "cells": [
  {
   "cell_type": "code",
   "execution_count": 5,
   "metadata": {},
   "outputs": [],
   "source": [
    "# Formating name string\n",
    "def format_name(strings):\n",
    "    string_out = []\n",
    "    for string in strings:\n",
    "        string_out.append(string.lower().replace(' ', '_'))\n",
    "    return string_out"
   ]
  },
  {
   "cell_type": "code",
   "execution_count": 6,
   "metadata": {},
   "outputs": [
    {
     "data": {
      "text/plain": [
       "['7.data_analysis_with_r_programming',\n",
       " '8.google_data_analytics_capstone:_complete_a_case_study']"
      ]
     },
     "execution_count": 6,
     "metadata": {},
     "output_type": "execute_result"
    }
   ],
   "source": [
    "string_inputs = [\n",
    "    '7.Data Analysis with R Programming',\n",
    "    '8.Google Data Analytics Capstone: Complete a Case Study'\n",
    "]\n",
    "\n",
    "format_name(string_inputs)"
   ]
  },
  {
   "cell_type": "code",
   "execution_count": null,
   "metadata": {},
   "outputs": [],
   "source": []
  }
 ],
 "metadata": {
  "kernelspec": {
   "display_name": "mlp-env",
   "language": "python",
   "name": "python3"
  },
  "language_info": {
   "codemirror_mode": {
    "name": "ipython",
    "version": 3
   },
   "file_extension": ".py",
   "mimetype": "text/x-python",
   "name": "python",
   "nbconvert_exporter": "python",
   "pygments_lexer": "ipython3",
   "version": "3.10.6"
  },
  "orig_nbformat": 4
 },
 "nbformat": 4,
 "nbformat_minor": 2
}
