{
 "cells": [
  {
   "attachments": {},
   "cell_type": "markdown",
   "metadata": {},
   "source": [
    "# Classification\n",
    "\n",
    "#### Contents\n",
    "1. MNIST\n",
    "2. Training\n",
    "3. Performance Measures\n",
    "    - Measuring Accuracy Using Cross-Validation\n",
    "    - Confusion Matrices\n",
    "    - Precision and Recall\n",
    "    - The Precision/Recall Trade-off\n",
    "    - The ROV Curve\n",
    "4. Multiclass Classification\n",
    "5. Error Analysis\n",
    "6. Multilable Classification\n",
    "7. Multioutput Classification"
   ]
  },
  {
   "attachments": {},
   "cell_type": "markdown",
   "metadata": {},
   "source": [
    "# Setup"
   ]
  },
  {
   "cell_type": "code",
   "execution_count": null,
   "metadata": {},
   "outputs": [],
   "source": []
  }
 ],
 "metadata": {
  "language_info": {
   "name": "python"
  },
  "orig_nbformat": 4
 },
 "nbformat": 4,
 "nbformat_minor": 2
}
