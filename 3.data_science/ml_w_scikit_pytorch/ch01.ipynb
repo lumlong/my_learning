{
 "cells": [
  {
   "attachments": {},
   "cell_type": "markdown",
   "metadata": {},
   "source": [
    "This cover the following topics:\n",
    "* The general concepts.\n",
    "* The three types of learning\n",
    "* The building blocks for successfully designing machine learning systems\n",
    "* Installing and setting up Python for data analysis and machine learning\n",
    "\n",
    "##### Machine Learning\n",
    "ML is a subfield of AI\n",
    "ML analyze data, creat model from that data, make prediction from that model.\n",
    "\n",
    "##### Types of ML\n",
    "* Supervised learning: Predict outcome\n",
    "    * Naive Bayes\n",
    "    * Linear regression: Predict continuous outcomes\n",
    "    * Logistic regression: Predict dicrete outcomes\n",
    "    * Support vector machine (SVM)\n",
    "    * K-nearest neighbor\n",
    "    * Random forest\n",
    "\n",
    "* Un- supervised learning: Find hidden structure\n",
    "    * Clustering\n",
    "    * Association Rules\n",
    "    * Dimensionality reduction\n",
    "* Reinforcement learning: Learn series of actions\n",
    "    * Develop **Agent** that interact with **Environment** an take **Actions** depending on **State** and earn highest **Reward**"
   ]
  },
  {
   "attachments": {},
   "cell_type": "markdown",
   "metadata": {},
   "source": [
    "#### Roadmap for building ML system\n",
    "1. Raw data collection\n",
    "2. Preprocessing 1: Missing data, Encoding, Feature seletion\n",
    "3. Dataset\n",
    "4. Train/Test dataset split (Test use for Final model evaluation only)\n",
    "5. Preprocessing 2: Feature scaling, Dimensionaly reduction\n",
    "6. Processed training dataset\n",
    "7. ML algorithm\n",
    "8. Hyperparameter choice\n",
    "8. Predictive model candidate\n",
    "9. Cross-validation\n",
    "10. Final predictive model"
   ]
  }
 ],
 "metadata": {
  "kernelspec": {
   "display_name": "Python 3",
   "language": "python",
   "name": "python3"
  },
  "language_info": {
   "name": "python",
   "version": "3.9.6"
  },
  "orig_nbformat": 4,
  "vscode": {
   "interpreter": {
    "hash": "31f2aee4e71d21fbe5cf8b01ff0e069b9275f58929596ceb00d14d90e3e16cd6"
   }
  }
 },
 "nbformat": 4,
 "nbformat_minor": 2
}
